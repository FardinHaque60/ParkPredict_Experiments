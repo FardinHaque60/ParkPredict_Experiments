{
 "cells": [
  {
   "cell_type": "code",
   "execution_count": 1,
   "metadata": {},
   "outputs": [],
   "source": [
    "## Fourier Series Regression Experiment\n",
    "import numpy as np\n",
    "import pandas as pd\n",
    "from scipy.optimize import curve_fit\n",
    "import matplotlib.pyplot as plt\n",
    "import sys\n",
    "import os\n",
    "\n",
    "sys.path.append(os.path.abspath(os.path.join(os.getcwd(), \"../lib\")))\n",
    "\n",
    "from data_load import load_data\n",
    "from validation import rmse_validation, mae_validation, r2_validation"
   ]
  },
  {
   "cell_type": "code",
   "execution_count": 2,
   "metadata": {},
   "outputs": [],
   "source": [
    "# Load all data and define constants\n",
    "date_start = pd.to_datetime(\"2025-02-17 12:00:00 AM\")\n",
    "date_end = pd.to_datetime(\"2025-02-21 12:00:00 AM\")\n",
    "T = 24 * 60\n",
    "\n",
    "initial_guess = [50, 10, 10, 5, 5]\n",
    "garages = [x + \" Garage\" for x in [\"North\", \"South\", \"West\", \"South Campus\"]]\n",
    "\n",
    "all_data = load_data(date_start, date_end)"
   ]
  },
  {
   "cell_type": "code",
   "execution_count": 3,
   "metadata": {},
   "outputs": [],
   "source": [
    "# Define Fourier series model (order 2 example)\n",
    "def fourier_model(x, a0, a1, b1, a2, b2):\n",
    "    return a0 + a1 * np.cos(2 * np.pi * x / T) + b1 * np.sin(2 * np.pi * x / T) + \\\n",
    "           a2 * np.cos(4 * np.pi * x / T) + b2 * np.sin(4 * np.pi * x / T)"
   ]
  },
  {
   "cell_type": "code",
   "execution_count": 4,
   "metadata": {},
   "outputs": [],
   "source": [
    "def fourier_fit(data):\n",
    "    # replace time stamps with time from date_start in minutes instead\n",
    "    # Extract x and y\n",
    "    x_data = (data['timestamp'] - date_start).dt.total_seconds() / 60\n",
    "    y_data = data['fullness']\n",
    "    \n",
    "    # fit curve with params\n",
    "    params, _ = curve_fit(fourier_model, x_data, y_data, p0=initial_guess)\n",
    "    print(\"fitted sine function using coefficients:\")\n",
    "    print(params)\n",
    "    \n",
    "    # generate x points for sin curves\n",
    "    x_end = int(x_data.tail(1).values[0])\n",
    "    all_x_vals = np.linspace(0, x_end, num=1000)\n",
    "    \n",
    "    return x_data, all_x_vals, y_data, fourier_model(x_data, *params), fourier_model(all_x_vals, *initial_guess)\n",
    "\n",
    "\n",
    "def model_plot(x_data, all_x_data, y_data, fit, guess_fit):\n",
    "    plt.scatter(x_data, y_data, color='blue', alpha=0.5, label='raw data')\n",
    "    \n",
    "    plt.plot(x_data, y_data, color='blue', linestyle='--')\n",
    "    plt.plot(x_data, fit, color='red', label='fitted curve')\n",
    "    \n",
    "    # plt.plot(all_x_data, guess_fit, color='orange', label='init guess curve')\n",
    "    plt.xlabel('Time (minutes)')\n",
    "    plt.ylabel('Fullness')\n",
    "    plt.title('Fourier Regression')\n",
    "    plt.show()\n",
    " "
   ]
  },
  {
   "cell_type": "code",
   "execution_count": 5,
   "metadata": {},
   "outputs": [
    {
     "ename": "NameError",
     "evalue": "name 'fourier_model' is not defined",
     "output_type": "error",
     "traceback": [
      "\u001b[31m---------------------------------------------------------------------------\u001b[39m",
      "\u001b[31mNameError\u001b[39m                                 Traceback (most recent call last)",
      "\u001b[36mCell\u001b[39m\u001b[36m \u001b[39m\u001b[32mIn[5]\u001b[39m\u001b[32m, line 3\u001b[39m\n\u001b[32m      1\u001b[39m north_data = all_data[all_data[\u001b[33m'\u001b[39m\u001b[33mgarage name\u001b[39m\u001b[33m'\u001b[39m] == garages[\u001b[32m0\u001b[39m]]\n\u001b[32m----> \u001b[39m\u001b[32m3\u001b[39m north_fit_params = \u001b[43mfourier_fit\u001b[49m\u001b[43m(\u001b[49m\u001b[43mnorth_data\u001b[49m\u001b[43m)\u001b[49m\n",
      "\u001b[36mCell\u001b[39m\u001b[36m \u001b[39m\u001b[32mIn[4]\u001b[39m\u001b[32m, line 8\u001b[39m, in \u001b[36mfourier_fit\u001b[39m\u001b[34m(data)\u001b[39m\n\u001b[32m      5\u001b[39m y_data = data[\u001b[33m'\u001b[39m\u001b[33mfullness\u001b[39m\u001b[33m'\u001b[39m]\n\u001b[32m      7\u001b[39m \u001b[38;5;66;03m# fit curve with params\u001b[39;00m\n\u001b[32m----> \u001b[39m\u001b[32m8\u001b[39m params, _ = curve_fit(\u001b[43mfourier_model\u001b[49m, x_data, y_data, p0=initial_guess)\n\u001b[32m      9\u001b[39m \u001b[38;5;28mprint\u001b[39m(\u001b[33m\"\u001b[39m\u001b[33mfitted sine function using coefficients:\u001b[39m\u001b[33m\"\u001b[39m)\n\u001b[32m     10\u001b[39m \u001b[38;5;28mprint\u001b[39m(params)\n",
      "\u001b[31mNameError\u001b[39m: name 'fourier_model' is not defined"
     ]
    }
   ],
   "source": [
    "north_data = all_data[all_data['garage name'] == garages[0]]\n",
    "\n",
    "north_fit_params = fourier_fit(north_data)"
   ]
  },
  {
   "cell_type": "code",
   "execution_count": null,
   "metadata": {},
   "outputs": [],
   "source": [
    "model_plot(*north_fit_params)"
   ]
  },
  {
   "cell_type": "code",
   "execution_count": null,
   "metadata": {},
   "outputs": [],
   "source": [
    "south_data = all_data[all_data['garage name'] == garages[1]]\n",
    "\n",
    "south_fit_params = fourier_fit(south_data)"
   ]
  },
  {
   "cell_type": "code",
   "execution_count": null,
   "metadata": {},
   "outputs": [],
   "source": [
    "model_plot(*south_fit_params)"
   ]
  },
  {
   "cell_type": "code",
   "execution_count": null,
   "metadata": {},
   "outputs": [],
   "source": [
    "west_data = all_data[all_data['garage name'] == garages[2]]\n",
    "\n",
    "west_fit_params = fourier_fit(west_data)"
   ]
  },
  {
   "cell_type": "code",
   "execution_count": null,
   "metadata": {},
   "outputs": [],
   "source": [
    "model_plot(*west_fit_params)"
   ]
  },
  {
   "cell_type": "code",
   "execution_count": null,
   "metadata": {},
   "outputs": [],
   "source": [
    "south_campus_data = all_data[all_data['garage name'] == garages[3]]\n",
    "\n",
    "south_campus_fit_params = fourier_fit(south_campus_data)"
   ]
  },
  {
   "cell_type": "code",
   "execution_count": null,
   "metadata": {},
   "outputs": [],
   "source": [
    "model_plot(*south_campus_fit_params)"
   ]
  },
  {
   "cell_type": "code",
   "execution_count": 5,
   "metadata": {},
   "outputs": [
    {
     "name": "stdout",
     "output_type": "stream",
     "text": [
      "RMSE calculations:\n",
      "North RMSE: 6.247927501467318\n",
      "South RMSE: 6.247927501467318\n",
      "West RMSE: 6.247927501467318\n",
      "South Campus RMSE: 6.247927501467318\n",
      "---------------\n",
      "MAE calculations:\n",
      "North MAE: 4.674134228325856\n",
      "South MAE: 4.674134228325856\n",
      "West MAE: 4.674134228325856\n",
      "South Campus MAE: 4.674134228325856\n",
      "----------------\n",
      "R² calculations:\n",
      "North R²: 0.9650704864878141\n",
      "South R²: 0.9650704864878141\n",
      "West R²: 0.9650704864878141\n",
      "South Campus R²: 0.9650704864878141\n"
     ]
    }
   ],
   "source": [
    "north_actual_pred = north_fit_params[2], north_fit_params[3]\n",
    "south_actual_pred = south_fit_params[2], south_fit_params[3]\n",
    "west_actual_pred = west_fit_params[2], west_fit_params[3]\n",
    "south_campus_pred = south_campus_fit_params[2], south_campus_fit_params[3]\n",
    "\n",
    "# pass in raw data and predicted sinusoidal regression values \n",
    "north_rmse = rmse_validation(*north_actual_pred)\n",
    "south_rmse = rmse_validation(*south_actual_pred)\n",
    "west_rmse = rmse_validation(*west_actual_pred)\n",
    "south_campus_rmse = rmse_validation(*south_campus_pred)\n",
    "\n",
    "north_mae = mae_validation(*north_actual_pred)\n",
    "south_mae = mae_validation(*south_actual_pred) \n",
    "west_mae = mae_validation(*west_actual_pred) \n",
    "south_campus_mae = mae_validation(*south_campus_pred) \n",
    "\n",
    "north_r2 = r2_validation(*north_actual_pred)\n",
    "south_r2 = r2_validation(*south_actual_pred)\n",
    "west_r2 = r2_validation(*west_actual_pred)\n",
    "south_campus_r2 = r2_validation(*south_campus_pred)\n",
    "\n",
    "print(\"rmse cals: \")\n",
    "print(f'north rmse: {north_rmse}')\n",
    "print(f'south rmse: {south_rmse}')\n",
    "print(f'west rmse: {west_rmse}')\n",
    "print(f'south campus rmse: {south_campus_rmse}')\n",
    "print(\"---------------\")\n",
    "print(\"mae calcs: \")\n",
    "print(f'north rmse: {north_mae}')\n",
    "print(f'south rmse: {south_mae}')\n",
    "print(f'west rmse: {west_mae}')\n",
    "print(f'south campus rmse: {south_campus_mae}')\n",
    "print(\"----------------\")\n",
    "print(\"r2 calcs: \")\n",
    "print(f'north rmse: {north_r2}')\n",
    "print(f'south rmse: {south_r2}')\n",
    "print(f'west rmse: {west_r2}')\n",
    "print(f'south campus rmse: {south_campus_r2}')"
   ]
  }
 ],
 "metadata": {
  "kernelspec": {
   "display_name": "Python 3 (ipykernel)",
   "language": "python",
   "name": "python3"
  },
  "language_info": {
   "codemirror_mode": {
    "name": "ipython",
    "version": 3
   },
   "file_extension": ".py",
   "mimetype": "text/x-python",
   "name": "python",
   "nbconvert_exporter": "python",
   "pygments_lexer": "ipython3",
   "version": "3.12.9"
  }
 },
 "nbformat": 4,
 "nbformat_minor": 4
}
