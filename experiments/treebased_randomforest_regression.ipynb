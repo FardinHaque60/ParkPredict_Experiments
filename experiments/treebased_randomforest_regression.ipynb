{
 "cells": [
  {
   "cell_type": "markdown",
   "metadata": {},
   "source": [
    "\n",
    "# Random Forest(tree-based) Regression Experiment (seems to be best model)\n"
   ]
  },
  {
   "cell_type": "markdown",
   "metadata": {},
   "source": []
  },
  {
   "cell_type": "code",
   "execution_count": 5,
   "metadata": {
    "vscode": {
     "languageId": "plaintext"
    }
   },
   "outputs": [],
   "source": [
    "import numpy as np\n",
    "import pandas as pd\n",
    "from scipy.optimize import curve_fit\n",
    "import matplotlib.pyplot as plt\n",
    "import sys\n",
    "import os\n",
    "\n",
    "from sklearn.ensemble import RandomForestRegressor\n",
    "from sklearn.metrics import mean_squared_error\n",
    "from sklearn.model_selection import train_test_split\n",
    "\n",
    "sys.path.append(os.path.abspath(os.path.join(os.getcwd(), \"../lib\")))\n",
    "\n",
    "from data_load import load_data\n",
    "from validation import rmse_validation, mae_validation, r2_validation"
   ]
  },
  {
   "cell_type": "markdown",
   "metadata": {},
   "source": [
    "Load data"
   ]
  },
  {
   "cell_type": "code",
   "execution_count": 6,
   "metadata": {
    "vscode": {
     "languageId": "plaintext"
    }
   },
   "outputs": [],
   "source": [
    "\n",
    "date_start = pd.to_datetime(\"2025-04-13 12:00:00 AM\")\n",
    "date_end = pd.to_datetime(\"2025-04-27 12:00:00 AM\")\n",
    "all_data = load_data(date_start, date_end)\n",
    "garages = [x + \" Garage\" for x in [\"North\", \"South\", \"West\", \"South Campus\"]]"
   ]
  },
  {
   "cell_type": "markdown",
   "metadata": {},
   "source": [
    "Define model parameters"
   ]
  },
  {
   "cell_type": "code",
   "execution_count": 7,
   "metadata": {
    "vscode": {
     "languageId": "plaintext"
    }
   },
   "outputs": [],
   "source": [
    "\n",
    "model_params = {\n",
    "    'n_estimators': 100,\n",
    "    'random_state': 42\n",
    "}\n"
   ]
  },
  {
   "cell_type": "code",
   "execution_count": 8,
   "metadata": {
    "vscode": {
     "languageId": "plaintext"
    }
   },
   "outputs": [
    {
     "name": "stdout",
     "output_type": "stream",
     "text": [
      "\n",
      "Processing North Garage...\n"
     ]
    },
    {
     "ename": "NameError",
     "evalue": "name 'train_test_split' is not defined",
     "output_type": "error",
     "traceback": [
      "\u001b[31m---------------------------------------------------------------------------\u001b[39m",
      "\u001b[31mNameError\u001b[39m                                 Traceback (most recent call last)",
      "\u001b[36mCell\u001b[39m\u001b[36m \u001b[39m\u001b[32mIn[8]\u001b[39m\u001b[32m, line 16\u001b[39m\n\u001b[32m     13\u001b[39m y = y_data.values\n\u001b[32m     15\u001b[39m \u001b[38;5;66;03m# Train/test split\u001b[39;00m\n\u001b[32m---> \u001b[39m\u001b[32m16\u001b[39m X_train, X_test, y_train, y_test = \u001b[43mtrain_test_split\u001b[49m(X, y, test_size=\u001b[32m0.2\u001b[39m, random_state=\u001b[32m42\u001b[39m)\n\u001b[32m     18\u001b[39m \u001b[38;5;66;03m# Create and fit model\u001b[39;00m\n\u001b[32m     19\u001b[39m model = RandomForestRegressor(**model_params)\n",
      "\u001b[31mNameError\u001b[39m: name 'train_test_split' is not defined"
     ]
    }
   ],
   "source": [
    "# Process each garage\n",
    "for garage in garages:\n",
    "    print(f\"\\nProcessing {garage}...\")\n",
    "    # Get garage data\n",
    "    garage_data = all_data[all_data['garage name'] == garage]\n",
    "    \n",
    "    # Preprocess\n",
    "    x_data = (garage_data['timestamp'] - date_start).dt.total_seconds() / 60\n",
    "    y_data = garage_data['fullness']\n",
    "    \n",
    "    # Reshape for sklearn\n",
    "    X = x_data.values.reshape(-1, 1)\n",
    "    y = y_data.values\n",
    "    \n",
    "    # Train/test split\n",
    "    X_train, X_test, y_train, y_test = train_test_split(X, y, test_size=0.2, random_state=42)\n",
    "    \n",
    "    # Create and fit model\n",
    "    model = RandomForestRegressor(**model_params)\n",
    "    model.fit(X_train, y_train)\n",
    "    \n",
    "    # Predict\n",
    "    y_pred = model.predict(X_test)\n",
    "    \n",
    "    # Sort for plotting\n",
    "    sorted_indices = np.argsort(X_test.flatten())\n",
    "    X_test_sorted = X_test[sorted_indices]\n",
    "    y_test_sorted = y_test[sorted_indices]\n",
    "    y_pred_sorted = y_pred[sorted_indices]\n",
    "    \n",
    "    # Plot\n",
    "    plt.figure(figsize=(10, 5))\n",
    "    plt.scatter(X_test, y_test, color='blue', alpha=0.5, label='raw data')\n",
    "    plt.plot(X_test_sorted, y_pred_sorted, color='red', label='fitted curve')\n",
    "    plt.xlabel('Time (minutes)')\n",
    "    plt.ylabel('Fullness')\n",
    "    plt.title(f'{garage} - Random Forest Regression')\n",
    "    plt.legend()\n",
    "    plt.show()\n",
    "    \n",
    "    # Calculate metrics\n",
    "    rmse = rmse_validation(y_test, y_pred)\n",
    "    mae = mae_validation(y_test, y_pred)\n",
    "    r2 = r2_validation(y_test, y_pred)\n",
    "    \n",
    "    print(f\"\\nMetrics for {garage}:\")\n",
    "    print(f\"RMSE: {rmse}\")\n",
    "    print(f\"MAE: {mae}\")\n",
    "    print(f\"R²: {r2}\")"
   ]
  },
  {
   "cell_type": "code",
   "execution_count": null,
   "metadata": {},
   "outputs": [],
   "source": []
  }
 ],
 "metadata": {
  "kernelspec": {
   "display_name": "Python 3 (ipykernel)",
   "language": "python",
   "name": "python3"
  },
  "language_info": {
   "codemirror_mode": {
    "name": "ipython",
    "version": 3
   },
   "file_extension": ".py",
   "mimetype": "text/x-python",
   "name": "python",
   "nbconvert_exporter": "python",
   "pygments_lexer": "ipython3",
   "version": "3.12.9"
  }
 },
 "nbformat": 4,
 "nbformat_minor": 4
}
